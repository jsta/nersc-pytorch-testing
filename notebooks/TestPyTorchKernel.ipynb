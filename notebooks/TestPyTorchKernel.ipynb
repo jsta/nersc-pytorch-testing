{
 "cells": [
  {
   "cell_type": "markdown",
   "metadata": {},
   "source": [
    "# Basic test of a PyTorch Jupyter kernel"
   ]
  },
  {
   "cell_type": "code",
   "execution_count": 2,
   "metadata": {},
   "outputs": [
    {
     "name": "stdout",
     "output_type": "stream",
     "text": [
      "craype-x86-milan\u001b[m\n",
      "libfabric/1.11.0.4.116\u001b[m\n",
      "craype-network-ofi\u001b[m\n",
      "perftools-base/22.04.0\u001b[m\n",
      "xpmem/2.3.2-2.2_7.5__g93dd7ee.shasta\u001b[m\n",
      "craype/2.7.15\u001b[m=\n",
      "cray-dsmml/0.2.2\u001b[m\n",
      "cray-mpich/8.1.15\u001b[m\n",
      "cray-libsci/21.08.1.2\u001b[m\n",
      "PrgEnv-gnu/8.3.3\u001b[m\n",
      "xalt/2.10.2\u001b[mh\u001b=\n",
      "darshan/3.3.1\u001b[m=\n",
      "gcc/10.3.0\u001b[m1h\u001b=\n",
      "pytorch/1.9.0\u001b[m=\n",
      "\u001b[K\u001b[?1l\u001b>"
     ]
    }
   ],
   "source": [
    "! ml --terse"
   ]
  },
  {
   "cell_type": "code",
   "execution_count": 3,
   "metadata": {},
   "outputs": [
    {
     "name": "stdout",
     "output_type": "stream",
     "text": [
      "/global/homes/s/sfarrell/.local/perlmutter/pytorch1.9.0\n"
     ]
    }
   ],
   "source": [
    "! echo $PYTHONUSERBASE"
   ]
  },
  {
   "cell_type": "code",
   "execution_count": 4,
   "metadata": {},
   "outputs": [
    {
     "name": "stdout",
     "output_type": "stream",
     "text": [
      "/global/common/software/nersc/cos1.3/nccl/2.9.8/cuda-11.0/lib:/global/common/software/nersc/cos1.3/cudnn/8.2.0/cuda/11.1.1/lib64:/usr/local/cuda-11.5/compat:/global/common/software/nersc/cos1.3/cuda/11.1.1/extras/CUPTI/lib64:/global/common/software/nersc/cos1.3/cuda/11.1.1/lib64:/global/common/software/nersc/cos1.3/cuda/11.1.1/lib64/compat:/opt/cray/pe/gcc/10.3.0/snos/lib64:/global/common/software/nersc/pm-2021q4/sw/darshan/3.3.1/lib:/opt/cray/pe/papi/6.0.0.14/lib64:/opt/cray/libfabric/1.11.0.4.116/lib64:/global/common/software/nersc/cos1.3/cuda/11.1.1/lib64/stubs\n"
     ]
    }
   ],
   "source": [
    "! echo $LD_LIBRARY_PATH"
   ]
  },
  {
   "cell_type": "code",
   "execution_count": 5,
   "metadata": {},
   "outputs": [
    {
     "name": "stdout",
     "output_type": "stream",
     "text": [
      "Package                  Version\n",
      "------------------------ -------------------\n",
      "absl-py                  0.13.0\n",
      "apex                     0.1\n",
      "argon2-cffi              20.1.0\n",
      "astunparse               1.6.3\n",
      "async-generator          1.10\n",
      "attrs                    21.2.0\n",
      "backcall                 0.2.0\n",
      "bleach                   4.0.0\n",
      "blessings                1.7\n",
      "Bottleneck               1.3.2\n",
      "brotlipy                 0.7.0\n",
      "cachetools               4.2.2\n",
      "certifi                  2021.5.30\n",
      "cffi                     1.14.6\n",
      "charset-normalizer       2.0.4\n",
      "click                    8.0.1\n",
      "configparser             5.0.2\n",
      "cryptography             3.4.7\n",
      "cycler                   0.10.0\n",
      "debugpy                  1.4.1\n",
      "decorator                5.0.9\n",
      "defusedxml               0.7.1\n",
      "docker-pycreds           0.4.0\n",
      "entrypoints              0.3\n",
      "filelock                 3.0.12\n",
      "fonttools                4.25.0\n",
      "future                   0.18.2\n",
      "gitdb                    4.0.7\n",
      "GitPython                3.1.18\n",
      "google-auth              1.35.0\n",
      "google-auth-oauthlib     0.4.5\n",
      "googledrivedownloader    0.4\n",
      "gpustat                  0.6.0\n",
      "grpcio                   1.39.0\n",
      "h5py                     2.10.0\n",
      "idna                     3.2\n",
      "importlib-metadata       3.10.0\n",
      "iniconfig                1.1.1\n",
      "ipykernel                6.2.0\n",
      "ipympl                   0.7.0\n",
      "ipython                  7.26.0\n",
      "ipython_genutils         0.2.0\n",
      "ipywidgets               7.6.3\n",
      "isodate                  0.6.0\n",
      "jedi                     0.18.0\n",
      "Jinja2                   3.0.1\n",
      "joblib                   1.0.1\n",
      "jsonschema               3.2.0\n",
      "jupyter-client           6.1.12\n",
      "jupyter-core             4.7.1\n",
      "jupyterlab-pygments      0.1.2\n",
      "jupyterlab-widgets       1.0.0\n",
      "kiwisolver               1.3.1\n",
      "Markdown                 3.3.4\n",
      "MarkupSafe               2.0.1\n",
      "matplotlib               3.4.2\n",
      "matplotlib-inline        0.1.2\n",
      "mistune                  0.8.4\n",
      "mkl-fft                  1.3.0\n",
      "mkl-random               1.2.2\n",
      "mkl-service              2.4.0\n",
      "mock                     4.0.3\n",
      "mpi4py                   3.0.3\n",
      "msgpack                  1.0.2\n",
      "munkres                  1.1.4\n",
      "nbclient                 0.5.3\n",
      "nbconvert                6.1.0\n",
      "nbformat                 5.1.3\n",
      "nersc-tensorboard-helper 0.1\n",
      "nest-asyncio             1.5.1\n",
      "networkx                 2.6.2\n",
      "notebook                 6.4.3\n",
      "numexpr                  2.7.3\n",
      "numpy                    1.20.3\n",
      "nvidia-ml-py3            7.352.0\n",
      "oauthlib                 3.1.1\n",
      "olefile                  0.46\n",
      "packaging                21.0\n",
      "pandas                   1.3.2\n",
      "pandocfilters            1.4.3\n",
      "parso                    0.8.2\n",
      "pathtools                0.1.2\n",
      "pexpect                  4.8.0\n",
      "pickleshare              0.7.5\n",
      "Pillow                   8.3.1\n",
      "pip                      21.2.2\n",
      "pluggy                   1.0.0\n",
      "prometheus-client        0.11.0\n",
      "promise                  2.3\n",
      "prompt-toolkit           3.0.17\n",
      "protobuf                 3.17.3\n",
      "psutil                   5.8.0\n",
      "ptyprocess               0.7.0\n",
      "py                       1.10.0\n",
      "pyasn1                   0.4.8\n",
      "pyasn1-modules           0.2.8\n",
      "pycparser                2.20\n",
      "Pygments                 2.10.0\n",
      "pyOpenSSL                20.0.1\n",
      "pyparsing                2.4.7\n",
      "pyrsistent               0.17.3\n",
      "PySocks                  1.7.1\n",
      "pytest                   6.2.5\n",
      "python-dateutil          2.8.2\n",
      "python-louvain           0.15\n",
      "pytz                     2021.1\n",
      "PyYAML                   5.4.1\n",
      "pyzmq                    22.2.1\n",
      "ray                      1.6.0\n",
      "rdflib                   6.0.0\n",
      "redis                    3.5.3\n",
      "requests                 2.26.0\n",
      "requests-oauthlib        1.3.0\n",
      "rsa                      4.7.2\n",
      "ruamel.yaml              0.17.16\n",
      "ruamel.yaml.clib         0.2.6\n",
      "scikit-learn             0.24.2\n",
      "scipy                    1.6.2\n",
      "Send2Trash               1.5.0\n",
      "sentry-sdk               1.3.1\n",
      "setuptools               52.0.0.post20210125\n",
      "shortuuid                1.0.1\n",
      "sip                      4.19.13\n",
      "six                      1.16.0\n",
      "smmap                    4.0.0\n",
      "subprocess32             3.5.4\n",
      "tables                   3.6.1\n",
      "tensorboard              2.6.0\n",
      "tensorboard-data-server  0.6.1\n",
      "tensorboard-plugin-wit   1.8.0\n",
      "terminado                0.9.4\n",
      "testpath                 0.5.0\n",
      "threadpoolctl            2.2.0\n",
      "toml                     0.10.2\n",
      "torch                    1.9.0\n",
      "torch-cluster            1.5.9\n",
      "torch-geometric          1.7.2\n",
      "torch-scatter            2.0.8\n",
      "torch-sparse             0.6.11\n",
      "torch-tb-profiler        0.3.1\n",
      "torchvision              0.10.0a0+300a8a4\n",
      "tornado                  6.1\n",
      "tqdm                     4.62.2\n",
      "traitlets                5.0.5\n",
      "typing-extensions        3.10.0.0\n",
      "urllib3                  1.26.6\n",
      "wandb                    0.12.1\n",
      "wcwidth                  0.2.5\n",
      "webencodings             0.5.1\n",
      "Werkzeug                 2.0.1\n",
      "wheel                    0.37.0\n",
      "widgetsnbextension       3.5.1\n",
      "zipp                     3.5.0\n"
     ]
    }
   ],
   "source": [
    "! pip list"
   ]
  },
  {
   "cell_type": "code",
   "execution_count": 6,
   "metadata": {},
   "outputs": [
    {
     "data": {
      "text/plain": [
       "['/global/u2/s/sfarrell',\n",
       " '/global/common/software/nersc/shasta2105/pytorch/1.9.0/lib/python38.zip',\n",
       " '/global/common/software/nersc/shasta2105/pytorch/1.9.0/lib/python3.8',\n",
       " '/global/common/software/nersc/shasta2105/pytorch/1.9.0/lib/python3.8/lib-dynload',\n",
       " '',\n",
       " '/global/homes/s/sfarrell/.local/perlmutter/pytorch1.9.0/lib/python3.8/site-packages',\n",
       " '/global/common/software/nersc/shasta2105/pytorch/1.9.0/lib/python3.8/site-packages',\n",
       " '/global/common/software/nersc/shasta2105/pytorch/1.9.0/lib/python3.8/site-packages/torchvision-0.10.0a0+300a8a4-py3.8-linux-x86_64.egg',\n",
       " '/global/common/software/nersc/shasta2105/pytorch/1.9.0/lib/python3.8/site-packages/IPython/extensions',\n",
       " '/global/u2/s/sfarrell/.ipython']"
      ]
     },
     "execution_count": 6,
     "metadata": {},
     "output_type": "execute_result"
    }
   ],
   "source": [
    "import sys\n",
    "sys.path"
   ]
  },
  {
   "cell_type": "code",
   "execution_count": 7,
   "metadata": {},
   "outputs": [
    {
     "data": {
      "text/plain": [
       "<module 'torch' from '/global/common/software/nersc/shasta2105/pytorch/1.9.0/lib/python3.8/site-packages/torch/__init__.py'>"
      ]
     },
     "execution_count": 7,
     "metadata": {},
     "output_type": "execute_result"
    }
   ],
   "source": [
    "import torch\n",
    "torch"
   ]
  },
  {
   "cell_type": "code",
   "execution_count": 8,
   "metadata": {},
   "outputs": [
    {
     "data": {
      "text/plain": [
       "'1.9.0'"
      ]
     },
     "execution_count": 8,
     "metadata": {},
     "output_type": "execute_result"
    }
   ],
   "source": [
    "torch.__version__"
   ]
  },
  {
   "cell_type": "markdown",
   "metadata": {},
   "source": [
    "## GPU tests\n",
    "\n",
    "Relevant for GPU kernels"
   ]
  },
  {
   "cell_type": "code",
   "execution_count": 9,
   "metadata": {},
   "outputs": [
    {
     "data": {
      "text/plain": [
       "True"
      ]
     },
     "execution_count": 9,
     "metadata": {},
     "output_type": "execute_result"
    }
   ],
   "source": [
    "torch.has_cuda"
   ]
  },
  {
   "cell_type": "code",
   "execution_count": 10,
   "metadata": {},
   "outputs": [
    {
     "data": {
      "text/plain": [
       "True"
      ]
     },
     "execution_count": 10,
     "metadata": {},
     "output_type": "execute_result"
    }
   ],
   "source": [
    "torch.cuda.is_available()"
   ]
  },
  {
   "cell_type": "code",
   "execution_count": 11,
   "metadata": {},
   "outputs": [
    {
     "data": {
      "text/plain": [
       "4"
      ]
     },
     "execution_count": 11,
     "metadata": {},
     "output_type": "execute_result"
    }
   ],
   "source": [
    "torch.cuda.device_count()"
   ]
  },
  {
   "cell_type": "code",
   "execution_count": 12,
   "metadata": {},
   "outputs": [
    {
     "name": "stdout",
     "output_type": "stream",
     "text": [
      "Wed Jun 15 13:43:23 2022       \n",
      "+-----------------------------------------------------------------------------+\n",
      "| NVIDIA-SMI 470.103.01   Driver Version: 470.103.01   CUDA Version: 11.5     |\n",
      "|-------------------------------+----------------------+----------------------+\n",
      "| GPU  Name        Persistence-M| Bus-Id        Disp.A | Volatile Uncorr. ECC |\n",
      "| Fan  Temp  Perf  Pwr:Usage/Cap|         Memory-Usage | GPU-Util  Compute M. |\n",
      "|                               |                      |               MIG M. |\n",
      "|===============================+======================+======================|\n",
      "|   0  NVIDIA A100-SXM...  On   | 00000000:03:00.0 Off |                    0 |\n",
      "| N/A   27C    P0    50W / 400W |      3MiB / 40536MiB |      0%      Default |\n",
      "|                               |                      |             Disabled |\n",
      "+-------------------------------+----------------------+----------------------+\n",
      "|   1  NVIDIA A100-SXM...  On   | 00000000:41:00.0 Off |                    0 |\n",
      "| N/A   26C    P0    49W / 400W |      3MiB / 40536MiB |      0%      Default |\n",
      "|                               |                      |             Disabled |\n",
      "+-------------------------------+----------------------+----------------------+\n",
      "|   2  NVIDIA A100-SXM...  On   | 00000000:81:00.0 Off |                    0 |\n",
      "| N/A   28C    P0    49W / 400W |      3MiB / 40536MiB |      0%      Default |\n",
      "|                               |                      |             Disabled |\n",
      "+-------------------------------+----------------------+----------------------+\n",
      "|   3  NVIDIA A100-SXM...  On   | 00000000:C1:00.0 Off |                    0 |\n",
      "| N/A   25C    P0    48W / 400W |      3MiB / 40536MiB |      0%      Default |\n",
      "|                               |                      |             Disabled |\n",
      "+-------------------------------+----------------------+----------------------+\n",
      "                                                                               \n",
      "+-----------------------------------------------------------------------------+\n",
      "| Processes:                                                                  |\n",
      "|  GPU   GI   CI        PID   Type   Process name                  GPU Memory |\n",
      "|        ID   ID                                                   Usage      |\n",
      "|=============================================================================|\n",
      "|  No running processes found                                                 |\n",
      "+-----------------------------------------------------------------------------+\n"
     ]
    }
   ],
   "source": [
    "!nvidia-smi"
   ]
  },
  {
   "cell_type": "code",
   "execution_count": 13,
   "metadata": {},
   "outputs": [],
   "source": [
    "import torch_geometric"
   ]
  }
 ],
 "metadata": {
  "kernelspec": {
   "display_name": "pytorch-1.9.0",
   "language": "python",
   "name": "pytorch-1.9.0"
  },
  "language_info": {
   "codemirror_mode": {
    "name": "ipython",
    "version": 3
   },
   "file_extension": ".py",
   "mimetype": "text/x-python",
   "name": "python",
   "nbconvert_exporter": "python",
   "pygments_lexer": "ipython3",
   "version": "3.8.11"
  }
 },
 "nbformat": 4,
 "nbformat_minor": 4
}
